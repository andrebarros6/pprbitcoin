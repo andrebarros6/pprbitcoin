{
 "cells": [
  {
   "cell_type": "code",
   "execution_count": 5,
   "id": "4586bf84",
   "metadata": {},
   "outputs": [],
   "source": [
    "import requests\n",
    "from bs4 import BeautifulSoup\n",
    "\n",
    "import undetected_chromedriver as uc\n",
    "from selenium import webdriver\n",
    "from selenium.webdriver.common.by import By\n",
    "from selenium.webdriver.support.ui import WebDriverWait\n",
    "from selenium.webdriver.support import expected_conditions as EC\n",
    "\n",
    "import time"
   ]
  },
  {
   "cell_type": "code",
   "execution_count": null,
   "id": "c6a3cdcd",
   "metadata": {},
   "outputs": [
    {
     "ename": "KeyboardInterrupt",
     "evalue": "",
     "output_type": "error",
     "traceback": [
      "\u001b[1;31m---------------------------------------------------------------------------\u001b[0m",
      "\u001b[1;31mKeyboardInterrupt\u001b[0m                         Traceback (most recent call last)",
      "Cell \u001b[1;32mIn[3], line 7\u001b[0m\n\u001b[0;32m      4\u001b[0m driver \u001b[38;5;241m=\u001b[39m webdriver\u001b[38;5;241m.\u001b[39mChrome()\n\u001b[0;32m      6\u001b[0m driver\u001b[38;5;241m.\u001b[39mget(url)\n\u001b[1;32m----> 7\u001b[0m time\u001b[38;5;241m.\u001b[39msleep(\u001b[38;5;241m30\u001b[39m)\n",
      "\u001b[1;31mKeyboardInterrupt\u001b[0m: "
     ]
    }
   ],
   "source": [
    "url = \"https://www.idealista.pt/media/relatorios-preco-habitacao/venda/historico/\"\n",
    "\n",
    "# creating a driver that will mimic an user navigating the web\n",
    "# using uc to avoid detection by the website\n",
    "driver = uc.Chrome()\n",
    "\n",
    "driver.get(url)\n",
    "time.sleep(5)\n",
    "\n",
    "# because we are using selenium, the elements have time to load and we are able to scrape the data\n",
    "# should use time.sleep(5) to wait for the page to load and mimic a human behavior"
   ]
  },
  {
   "cell_type": "code",
   "execution_count": null,
   "id": "1bad0e0e",
   "metadata": {},
   "outputs": [
    {
     "ename": "InvalidSessionIdException",
     "evalue": "Message: invalid session id: session deleted as the browser has closed the connection\nfrom disconnected: not connected to DevTools\n  (Session info: chrome=141.0.7390.123)\nStacktrace:\n\tGetHandleVerifier [0x0x7ff79b75e8e5+80021]\n\tGetHandleVerifier [0x0x7ff79b75e940+80112]\n\t(No symbol) [0x0x7ff79b4e060f]\n\t(No symbol) [0x0x7ff79b4cc145]\n\t(No symbol) [0x0x7ff79b4f177a]\n\t(No symbol) [0x0x7ff79b568b06]\n\t(No symbol) [0x0x7ff79b588fa2]\n\t(No symbol) [0x0x7ff79b561003]\n\t(No symbol) [0x0x7ff79b5295d1]\n\t(No symbol) [0x0x7ff79b52a3f3]\n\tGetHandleVerifier [0x0x7ff79ba1dc7d+2960429]\n\tGetHandleVerifier [0x0x7ff79ba17f3a+2936554]\n\tGetHandleVerifier [0x0x7ff79ba38977+3070247]\n\tGetHandleVerifier [0x0x7ff79b7783ce+185214]\n\tGetHandleVerifier [0x0x7ff79b77fe1f+216527]\n\tGetHandleVerifier [0x0x7ff79b767b24+117460]\n\tGetHandleVerifier [0x0x7ff79b767cdf+117903]\n\tGetHandleVerifier [0x0x7ff79b74dbb8+11112]\n\tBaseThreadInitThunk [0x0x7ff8c9617374+20]\n\tRtlUserThreadStart [0x0x7ff8ca27cc91+33]\n",
     "output_type": "error",
     "traceback": [
      "\u001b[1;31m---------------------------------------------------------------------------\u001b[0m",
      "\u001b[1;31mInvalidSessionIdException\u001b[0m                 Traceback (most recent call last)",
      "Cell \u001b[1;32mIn[15], line 1\u001b[0m\n\u001b[1;32m----> 1\u001b[0m html \u001b[38;5;241m=\u001b[39m driver\u001b[38;5;241m.\u001b[39mpage_source\n\u001b[0;32m      2\u001b[0m html\n",
      "File \u001b[1;32mc:\\Users\\abarr\\anaconda3\\Lib\\site-packages\\selenium\\webdriver\\remote\\webdriver.py:586\u001b[0m, in \u001b[0;36mWebDriver.page_source\u001b[1;34m(self)\u001b[0m\n\u001b[0;32m    578\u001b[0m \u001b[38;5;129m@property\u001b[39m\n\u001b[0;32m    579\u001b[0m \u001b[38;5;28;01mdef\u001b[39;00m \u001b[38;5;21mpage_source\u001b[39m(\u001b[38;5;28mself\u001b[39m) \u001b[38;5;241m-\u001b[39m\u001b[38;5;241m>\u001b[39m \u001b[38;5;28mstr\u001b[39m:\n\u001b[0;32m    580\u001b[0m \u001b[38;5;250m    \u001b[39m\u001b[38;5;124;03m\"\"\"Gets the source of the current page.\u001b[39;00m\n\u001b[0;32m    581\u001b[0m \n\u001b[0;32m    582\u001b[0m \u001b[38;5;124;03m    Example:\u001b[39;00m\n\u001b[0;32m    583\u001b[0m \u001b[38;5;124;03m    --------\u001b[39;00m\n\u001b[0;32m    584\u001b[0m \u001b[38;5;124;03m    >>> print(driver.page_source)\u001b[39;00m\n\u001b[0;32m    585\u001b[0m \u001b[38;5;124;03m    \"\"\"\u001b[39;00m\n\u001b[1;32m--> 586\u001b[0m     \u001b[38;5;28;01mreturn\u001b[39;00m \u001b[38;5;28mself\u001b[39m\u001b[38;5;241m.\u001b[39mexecute(Command\u001b[38;5;241m.\u001b[39mGET_PAGE_SOURCE)[\u001b[38;5;124m\"\u001b[39m\u001b[38;5;124mvalue\u001b[39m\u001b[38;5;124m\"\u001b[39m]\n",
      "File \u001b[1;32mc:\\Users\\abarr\\anaconda3\\Lib\\site-packages\\selenium\\webdriver\\remote\\webdriver.py:447\u001b[0m, in \u001b[0;36mWebDriver.execute\u001b[1;34m(self, driver_command, params)\u001b[0m\n\u001b[0;32m    445\u001b[0m response \u001b[38;5;241m=\u001b[39m \u001b[38;5;28mself\u001b[39m\u001b[38;5;241m.\u001b[39mcommand_executor\u001b[38;5;241m.\u001b[39mexecute(driver_command, params)\n\u001b[0;32m    446\u001b[0m \u001b[38;5;28;01mif\u001b[39;00m response:\n\u001b[1;32m--> 447\u001b[0m     \u001b[38;5;28mself\u001b[39m\u001b[38;5;241m.\u001b[39merror_handler\u001b[38;5;241m.\u001b[39mcheck_response(response)\n\u001b[0;32m    448\u001b[0m     response[\u001b[38;5;124m\"\u001b[39m\u001b[38;5;124mvalue\u001b[39m\u001b[38;5;124m\"\u001b[39m] \u001b[38;5;241m=\u001b[39m \u001b[38;5;28mself\u001b[39m\u001b[38;5;241m.\u001b[39m_unwrap_value(response\u001b[38;5;241m.\u001b[39mget(\u001b[38;5;124m\"\u001b[39m\u001b[38;5;124mvalue\u001b[39m\u001b[38;5;124m\"\u001b[39m, \u001b[38;5;28;01mNone\u001b[39;00m))\n\u001b[0;32m    449\u001b[0m     \u001b[38;5;28;01mreturn\u001b[39;00m response\n",
      "File \u001b[1;32mc:\\Users\\abarr\\anaconda3\\Lib\\site-packages\\selenium\\webdriver\\remote\\errorhandler.py:232\u001b[0m, in \u001b[0;36mErrorHandler.check_response\u001b[1;34m(self, response)\u001b[0m\n\u001b[0;32m    230\u001b[0m         alert_text \u001b[38;5;241m=\u001b[39m value[\u001b[38;5;124m\"\u001b[39m\u001b[38;5;124malert\u001b[39m\u001b[38;5;124m\"\u001b[39m]\u001b[38;5;241m.\u001b[39mget(\u001b[38;5;124m\"\u001b[39m\u001b[38;5;124mtext\u001b[39m\u001b[38;5;124m\"\u001b[39m)\n\u001b[0;32m    231\u001b[0m     \u001b[38;5;28;01mraise\u001b[39;00m exception_class(message, screen, stacktrace, alert_text)  \u001b[38;5;66;03m# type: ignore[call-arg]  # mypy is not smart enough here\u001b[39;00m\n\u001b[1;32m--> 232\u001b[0m \u001b[38;5;28;01mraise\u001b[39;00m exception_class(message, screen, stacktrace)\n",
      "\u001b[1;31mInvalidSessionIdException\u001b[0m: Message: invalid session id: session deleted as the browser has closed the connection\nfrom disconnected: not connected to DevTools\n  (Session info: chrome=141.0.7390.123)\nStacktrace:\n\tGetHandleVerifier [0x0x7ff79b75e8e5+80021]\n\tGetHandleVerifier [0x0x7ff79b75e940+80112]\n\t(No symbol) [0x0x7ff79b4e060f]\n\t(No symbol) [0x0x7ff79b4cc145]\n\t(No symbol) [0x0x7ff79b4f177a]\n\t(No symbol) [0x0x7ff79b568b06]\n\t(No symbol) [0x0x7ff79b588fa2]\n\t(No symbol) [0x0x7ff79b561003]\n\t(No symbol) [0x0x7ff79b5295d1]\n\t(No symbol) [0x0x7ff79b52a3f3]\n\tGetHandleVerifier [0x0x7ff79ba1dc7d+2960429]\n\tGetHandleVerifier [0x0x7ff79ba17f3a+2936554]\n\tGetHandleVerifier [0x0x7ff79ba38977+3070247]\n\tGetHandleVerifier [0x0x7ff79b7783ce+185214]\n\tGetHandleVerifier [0x0x7ff79b77fe1f+216527]\n\tGetHandleVerifier [0x0x7ff79b767b24+117460]\n\tGetHandleVerifier [0x0x7ff79b767cdf+117903]\n\tGetHandleVerifier [0x0x7ff79b74dbb8+11112]\n\tBaseThreadInitThunk [0x0x7ff8c9617374+20]\n\tRtlUserThreadStart [0x0x7ff8ca27cc91+33]\n"
     ]
    }
   ],
   "source": [
    "html = driver.page_source\n",
    "html"
   ]
  },
  {
   "cell_type": "code",
   "execution_count": null,
   "id": "436dd10c",
   "metadata": {},
   "outputs": [
    {
     "data": {
      "text/plain": [
       "<html lang=\"pt\"><head><title>idealista.pt</title><style>#cmsg{animation: A 1.5s;}@keyframes A{0%{opacity:0;}99%{opacity:0;}100%{opacity:1;}}</style><meta content=\"width=device-width, initial-scale=1.0\" name=\"viewport\"/></head><body style=\"margin:0\"><script data-cfasync=\"false\">var dd={'rt':'c','cid':'AHrlqAAAAAMA8HJF9ZdnXHUAWLAWjg==','hsh':'AC81AADC3279CA4C7B968B717FBB30','t':'fe','qp':'','s':17156,'e':'7f3819e434d173dba231fb85f3e714126efb16d5ff503910714ada2f254a144f289d3782a1bf008351e8569f99c8061a','host':'geo.captcha-delivery.com','cookie':'Y8UgSLqrSOdFfYZAE7Xzna8VhykhZ6veJT~65k61cA6Tl4lEP0jIwPyzkk1pFYM3wyEEXRIXMS1G9bSCCfZskYBoafTjaddyfnehXEnlWeEbCmmzGNL92IDgQsMwzJUP'}</script><script data-cfasync=\"false\" src=\"https://ct.captcha-delivery.com/c.js\"></script><iframe allow=\"accelerometer; gyroscope; magnetometer\" border=\"0\" frameborder=\"0\" height=\"100%\" sandbox=\"allow-scripts allow-same-origin allow-forms\" scrolling=\"yes\" src=\"https://geo.captcha-delivery.com/captcha/?initialCid=AHrlqAAAAAMA8HJF9ZdnXHUAWLAWjg%3D%3D&amp;hash=AC81AADC3279CA4C7B968B717FBB30&amp;cid=Y8UgSLqrSOdFfYZAE7Xzna8VhykhZ6veJT~65k61cA6Tl4lEP0jIwPyzkk1pFYM3wyEEXRIXMS1G9bSCCfZskYBoafTjaddyfnehXEnlWeEbCmmzGNL92IDgQsMwzJUP&amp;t=fe&amp;referer=https%3A%2F%2Fwww.idealista.pt%2Fmedia%2Frelatorios-preco-habitacao%2Fvenda%2Fhistorico%2F&amp;s=17156&amp;e=7f3819e434d173dba231fb85f3e714126efb16d5ff503910714ada2f254a144f289d3782a1bf008351e8569f99c8061a&amp;dm=cd\" style=\"height:100vh;\" title=\"DataDome CAPTCHA\" width=\"100%\"></iframe></body></html>"
      ]
     },
     "execution_count": 16,
     "metadata": {},
     "output_type": "execute_result"
    }
   ],
   "source": [
    "soup = BeautifulSoup(html)\n",
    "soup"
   ]
  },
  {
   "cell_type": "code",
   "execution_count": null,
   "id": "2a7522ef",
   "metadata": {},
   "outputs": [
    {
     "data": {
      "text/plain": [
       "[]"
      ]
     },
     "execution_count": 17,
     "metadata": {},
     "output_type": "execute_result"
    }
   ],
   "source": [
    "table = soup.find_all(\"table\")\n",
    "table"
   ]
  },
  {
   "cell_type": "code",
   "execution_count": null,
   "id": "f46e6fbf",
   "metadata": {},
   "outputs": [
    {
     "ename": "IndexError",
     "evalue": "list index out of range",
     "output_type": "error",
     "traceback": [
      "\u001b[1;31m---------------------------------------------------------------------------\u001b[0m",
      "\u001b[1;31mIndexError\u001b[0m                                Traceback (most recent call last)",
      "Cell \u001b[1;32mIn[18], line 1\u001b[0m\n\u001b[1;32m----> 1\u001b[0m table_content \u001b[38;5;241m=\u001b[39m table[\u001b[38;5;241m0\u001b[39m]\u001b[38;5;241m.\u001b[39mfind_all(\u001b[38;5;124m\"\u001b[39m\u001b[38;5;124mtd\u001b[39m\u001b[38;5;124m\"\u001b[39m)[\u001b[38;5;241m0\u001b[39m]\n\u001b[0;32m      2\u001b[0m table_content\n",
      "\u001b[1;31mIndexError\u001b[0m: list index out of range"
     ]
    }
   ],
   "source": [
    "table_content = table[0].find_all(\"td\")[0]\n",
    "table_content"
   ]
  },
  {
   "cell_type": "code",
   "execution_count": null,
   "id": "d247800e",
   "metadata": {},
   "outputs": [
    {
     "data": {
      "text/plain": [
       "[]"
      ]
     },
     "execution_count": 20,
     "metadata": {},
     "output_type": "execute_result"
    }
   ],
   "source": [
    "table"
   ]
  },
  {
   "cell_type": "code",
   "execution_count": null,
   "id": "0b7487d5",
   "metadata": {},
   "outputs": [
    {
     "data": {
      "text/plain": [
       "'2025-09-01'"
      ]
     },
     "execution_count": 49,
     "metadata": {},
     "output_type": "execute_result"
    }
   ],
   "source": [
    "new_date = table_content[\"data-sortable\"]\n",
    "new_date"
   ]
  },
  {
   "cell_type": "code",
   "execution_count": null,
   "id": "5c43ef20",
   "metadata": {},
   "outputs": [
    {
     "data": {
      "text/plain": [
       "'2025-09-01'"
      ]
     },
     "execution_count": 51,
     "metadata": {},
     "output_type": "execute_result"
    }
   ],
   "source": [
    "date = table[0].find_all(\"td\")[0][\"data-sortable\"]\n",
    "date"
   ]
  },
  {
   "cell_type": "code",
   "execution_count": null,
   "id": "a4e64e99",
   "metadata": {},
   "outputs": [
    {
     "data": {
      "text/plain": [
       "2942.87"
      ]
     },
     "execution_count": 53,
     "metadata": {},
     "output_type": "execute_result"
    }
   ],
   "source": [
    "price = float(table[0].find_all(\"td\")[1][\"data-sortable\"])\n",
    "price"
   ]
  },
  {
   "cell_type": "code",
   "execution_count": null,
   "id": "ad7df8ae",
   "metadata": {},
   "outputs": [
    {
     "data": {
      "text/plain": [
       "-0.290367"
      ]
     },
     "execution_count": 54,
     "metadata": {},
     "output_type": "execute_result"
    }
   ],
   "source": [
    "variacao_mensal = float(table[0].find_all(\"td\")[2][\"data-sortable\"])\n",
    "variacao_mensal"
   ]
  },
  {
   "cell_type": "code",
   "execution_count": null,
   "id": "5d6450ab",
   "metadata": {},
   "outputs": [
    {
     "data": {
      "text/plain": [
       "1.56163"
      ]
     },
     "execution_count": 55,
     "metadata": {},
     "output_type": "execute_result"
    }
   ],
   "source": [
    "variacao_trimestral = float(table[0].find_all(\"td\")[3][\"data-sortable\"])\n",
    "variacao_trimestral"
   ]
  },
  {
   "cell_type": "code",
   "execution_count": null,
   "id": "d4607e78",
   "metadata": {},
   "outputs": [],
   "source": [
    "date = table[0].find_all(\"td\")[0][\"data-sortable\"]\n",
    "price = float(table[0].find_all(\"td\")[1][\"data-sortable\"])\n",
    "variacao_mensal = float(table[0].find_all(\"td\")[2][\"data-sortable\"])\n",
    "variacao_trimestral = float(table[0].find_all(\"td\")[3][\"data-sortable\"])"
   ]
  }
 ],
 "metadata": {
  "kernelspec": {
   "display_name": "base",
   "language": "python",
   "name": "python3"
  },
  "language_info": {
   "codemirror_mode": {
    "name": "ipython",
    "version": 3
   },
   "file_extension": ".py",
   "mimetype": "text/x-python",
   "name": "python",
   "nbconvert_exporter": "python",
   "pygments_lexer": "ipython3",
   "version": "3.12.7"
  }
 },
 "nbformat": 4,
 "nbformat_minor": 5
}
